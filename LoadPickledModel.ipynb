{
 "cells": [
  {
   "cell_type": "markdown",
   "id": "7d32190b-a2ce-46f4-8d6f-c6540239d145",
   "metadata": {},
   "source": [
    "<h2>Loading the model from file</h2>"
   ]
  },
  {
   "cell_type": "code",
   "execution_count": 3,
   "id": "e3ea63f2-8f24-4cf0-ab35-8e28caf96f7b",
   "metadata": {
    "tags": []
   },
   "outputs": [],
   "source": [
    "import pickle\n",
    "\n",
    "pickled_model = pickle.load(open('iris_model.pkl', 'rb'))\n",
    "y = pickled_model.predict([[1.6,0.3]])\n",
    "print (y)"
   ]
  },
  {
   "cell_type": "code",
   "execution_count": null,
   "id": "4f377369-cd80-4431-a4a0-81b902eb0415",
   "metadata": {},
   "outputs": [],
   "source": []
  }
 ],
 "metadata": {
  "kernelspec": {
   "display_name": "Python 3 (ipykernel)",
   "language": "python",
   "name": "python3"
  },
  "language_info": {
   "codemirror_mode": {
    "name": "ipython",
    "version": 3
   },
   "file_extension": ".py",
   "mimetype": "text/x-python",
   "name": "python",
   "nbconvert_exporter": "python",
   "pygments_lexer": "ipython3",
   "version": "3.11.2"
  }
 },
 "nbformat": 4,
 "nbformat_minor": 5
}
